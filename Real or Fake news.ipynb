{
 "cells": [
  {
   "cell_type": "code",
   "execution_count": null,
   "id": "19653d5c",
   "metadata": {},
   "outputs": [],
   "source": [
    "\n"
   ]
  },
  {
   "cell_type": "code",
   "execution_count": 20,
   "id": "1780775f",
   "metadata": {},
   "outputs": [],
   "source": [
    "import numpy as np                            # np making numpy arrey\n",
    "import pandas as pd                           #storing data in a DataFrame\n",
    "import re                                     #  Re : regular expresion to search words in a  document\n",
    "from nltk.corpus import stopwords             # stopwords  stop the words which does not add much value to te document(a, an ,and ,..,)\n",
    "from nltk.stem.porter import PorterStemmer   ## stem returns the root of the word\n",
    "from sklearn.feature_extraction.text import TfidfVectorizer   #TfidfVectorizer converts text to features vectors which are numbers\n",
    "from sklearn.model_selection import train_test_split\n",
    "from sklearn.linear_model import LogisticRegression\n",
    "from sklearn.metrics import accuracy_score"
   ]
  },
  {
   "cell_type": "code",
   "execution_count": 2,
   "id": "c3688b41",
   "metadata": {},
   "outputs": [
    {
     "name": "stderr",
     "output_type": "stream",
     "text": [
      "[nltk_data] Downloading package stopwords to /home/scg/nltk_data...\n",
      "[nltk_data]   Unzipping corpora/stopwords.zip.\n"
     ]
    },
    {
     "data": {
      "text/plain": [
       "True"
      ]
     },
     "execution_count": 2,
     "metadata": {},
     "output_type": "execute_result"
    }
   ],
   "source": [
    "import nltk\n",
    "nltk.download('stopwords') "
   ]
  },
  {
   "cell_type": "code",
   "execution_count": 62,
   "id": "20033239",
   "metadata": {},
   "outputs": [
    {
     "name": "stdout",
     "output_type": "stream",
     "text": [
      "['i', 'me', 'my', 'myself', 'we', 'our', 'ours', 'ourselves', 'you', \"you're\", \"you've\", \"you'll\", \"you'd\", 'your', 'yours', 'yourself', 'yourselves', 'he', 'him', 'his', 'himself', 'she', \"she's\", 'her', 'hers', 'herself', 'it', \"it's\", 'its', 'itself', 'they', 'them', 'their', 'theirs', 'themselves', 'what', 'which', 'who', 'whom', 'this', 'that', \"that'll\", 'these', 'those', 'am', 'is', 'are', 'was', 'were', 'be', 'been', 'being', 'have', 'has', 'had', 'having', 'do', 'does', 'did', 'doing', 'a', 'an', 'the', 'and', 'but', 'if', 'or', 'because', 'as', 'until', 'while', 'of', 'at', 'by', 'for', 'with', 'about', 'against', 'between', 'into', 'through', 'during', 'before', 'after', 'above', 'below', 'to', 'from', 'up', 'down', 'in', 'out', 'on', 'off', 'over', 'under', 'again', 'further', 'then', 'once', 'here', 'there', 'when', 'where', 'why', 'how', 'all', 'any', 'both', 'each', 'few', 'more', 'most', 'other', 'some', 'such', 'no', 'nor', 'not', 'only', 'own', 'same', 'so', 'than', 'too', 'very', 's', 't', 'can', 'will', 'just', 'don', \"don't\", 'should', \"should've\", 'now', 'd', 'll', 'm', 'o', 're', 've', 'y', 'ain', 'aren', \"aren't\", 'couldn', \"couldn't\", 'didn', \"didn't\", 'doesn', \"doesn't\", 'hadn', \"hadn't\", 'hasn', \"hasn't\", 'haven', \"haven't\", 'isn', \"isn't\", 'ma', 'mightn', \"mightn't\", 'mustn', \"mustn't\", 'needn', \"needn't\", 'shan', \"shan't\", 'shouldn', \"shouldn't\", 'wasn', \"wasn't\", 'weren', \"weren't\", 'won', \"won't\", 'wouldn', \"wouldn't\"]\n"
     ]
    }
   ],
   "source": [
    "print (stopwords.words('english'))"
   ]
  },
  {
   "cell_type": "markdown",
   "id": "84176185",
   "metadata": {},
   "source": [
    "## Data Preprocessing "
   ]
  },
  {
   "cell_type": "code",
   "execution_count": 63,
   "id": "316e4ff1",
   "metadata": {},
   "outputs": [],
   "source": [
    "news_dataset= pd.read_csv('train.csv')"
   ]
  },
  {
   "cell_type": "code",
   "execution_count": 64,
   "id": "7a6c8410",
   "metadata": {},
   "outputs": [
    {
     "data": {
      "text/plain": [
       "(20800, 5)"
      ]
     },
     "execution_count": 64,
     "metadata": {},
     "output_type": "execute_result"
    }
   ],
   "source": [
    "news_dataset.shape"
   ]
  },
  {
   "cell_type": "code",
   "execution_count": 65,
   "id": "ac2855ba",
   "metadata": {},
   "outputs": [
    {
     "data": {
      "text/html": [
       "<div>\n",
       "<style scoped>\n",
       "    .dataframe tbody tr th:only-of-type {\n",
       "        vertical-align: middle;\n",
       "    }\n",
       "\n",
       "    .dataframe tbody tr th {\n",
       "        vertical-align: top;\n",
       "    }\n",
       "\n",
       "    .dataframe thead th {\n",
       "        text-align: right;\n",
       "    }\n",
       "</style>\n",
       "<table border=\"1\" class=\"dataframe\">\n",
       "  <thead>\n",
       "    <tr style=\"text-align: right;\">\n",
       "      <th></th>\n",
       "      <th>id</th>\n",
       "      <th>title</th>\n",
       "      <th>author</th>\n",
       "      <th>text</th>\n",
       "      <th>label</th>\n",
       "    </tr>\n",
       "  </thead>\n",
       "  <tbody>\n",
       "    <tr>\n",
       "      <th>0</th>\n",
       "      <td>0</td>\n",
       "      <td>House Dem Aide: We Didn’t Even See Comey’s Let...</td>\n",
       "      <td>Darrell Lucus</td>\n",
       "      <td>House Dem Aide: We Didn’t Even See Comey’s Let...</td>\n",
       "      <td>1</td>\n",
       "    </tr>\n",
       "    <tr>\n",
       "      <th>1</th>\n",
       "      <td>1</td>\n",
       "      <td>FLYNN: Hillary Clinton, Big Woman on Campus - ...</td>\n",
       "      <td>Daniel J. Flynn</td>\n",
       "      <td>Ever get the feeling your life circles the rou...</td>\n",
       "      <td>0</td>\n",
       "    </tr>\n",
       "    <tr>\n",
       "      <th>2</th>\n",
       "      <td>2</td>\n",
       "      <td>Why the Truth Might Get You Fired</td>\n",
       "      <td>Consortiumnews.com</td>\n",
       "      <td>Why the Truth Might Get You Fired October 29, ...</td>\n",
       "      <td>1</td>\n",
       "    </tr>\n",
       "    <tr>\n",
       "      <th>3</th>\n",
       "      <td>3</td>\n",
       "      <td>15 Civilians Killed In Single US Airstrike Hav...</td>\n",
       "      <td>Jessica Purkiss</td>\n",
       "      <td>Videos 15 Civilians Killed In Single US Airstr...</td>\n",
       "      <td>1</td>\n",
       "    </tr>\n",
       "    <tr>\n",
       "      <th>4</th>\n",
       "      <td>4</td>\n",
       "      <td>Iranian woman jailed for fictional unpublished...</td>\n",
       "      <td>Howard Portnoy</td>\n",
       "      <td>Print \\nAn Iranian woman has been sentenced to...</td>\n",
       "      <td>1</td>\n",
       "    </tr>\n",
       "  </tbody>\n",
       "</table>\n",
       "</div>"
      ],
      "text/plain": [
       "   id                                              title              author  \\\n",
       "0   0  House Dem Aide: We Didn’t Even See Comey’s Let...       Darrell Lucus   \n",
       "1   1  FLYNN: Hillary Clinton, Big Woman on Campus - ...     Daniel J. Flynn   \n",
       "2   2                  Why the Truth Might Get You Fired  Consortiumnews.com   \n",
       "3   3  15 Civilians Killed In Single US Airstrike Hav...     Jessica Purkiss   \n",
       "4   4  Iranian woman jailed for fictional unpublished...      Howard Portnoy   \n",
       "\n",
       "                                                text  label  \n",
       "0  House Dem Aide: We Didn’t Even See Comey’s Let...      1  \n",
       "1  Ever get the feeling your life circles the rou...      0  \n",
       "2  Why the Truth Might Get You Fired October 29, ...      1  \n",
       "3  Videos 15 Civilians Killed In Single US Airstr...      1  \n",
       "4  Print \\nAn Iranian woman has been sentenced to...      1  "
      ]
     },
     "execution_count": 65,
     "metadata": {},
     "output_type": "execute_result"
    }
   ],
   "source": [
    "news_dataset.head()  # labels are :  1 or 0"
   ]
  },
  {
   "cell_type": "code",
   "execution_count": 66,
   "id": "bdade0a7",
   "metadata": {},
   "outputs": [
    {
     "data": {
      "text/plain": [
       "id           0\n",
       "title      558\n",
       "author    1957\n",
       "text        39\n",
       "label        0\n",
       "dtype: int64"
      ]
     },
     "execution_count": 66,
     "metadata": {},
     "output_type": "execute_result"
    }
   ],
   "source": [
    "# check if some values are missed?   =======>  .isnull().sum()\n",
    "news_dataset.isnull()\n",
    "news_dataset.isnull().sum()"
   ]
  },
  {
   "cell_type": "code",
   "execution_count": 67,
   "id": "1d8e710d",
   "metadata": {},
   "outputs": [],
   "source": [
    "#replacing the null values with empty string ======> .fillna('')\n",
    "news_dataset = news_dataset.fillna('')"
   ]
  },
  {
   "cell_type": "code",
   "execution_count": 68,
   "id": "1a528065",
   "metadata": {},
   "outputs": [
    {
     "data": {
      "text/plain": [
       "id        0\n",
       "title     0\n",
       "author    0\n",
       "text      0\n",
       "label     0\n",
       "dtype: int64"
      ]
     },
     "execution_count": 68,
     "metadata": {},
     "output_type": "execute_result"
    }
   ],
   "source": [
    "news_dataset.isnull().sum()"
   ]
  },
  {
   "cell_type": "code",
   "execution_count": 69,
   "id": "337ded05",
   "metadata": {},
   "outputs": [],
   "source": [
    "# creat a new coulm named contanet and merging the atuer name and news title \n",
    "news_dataset['content']= news_dataset['author']=news_dataset['title']\n",
    "                                                            "
   ]
  },
  {
   "cell_type": "code",
   "execution_count": 70,
   "id": "f275a9e7",
   "metadata": {},
   "outputs": [
    {
     "name": "stdout",
     "output_type": "stream",
     "text": [
      "0        House Dem Aide: We Didn’t Even See Comey’s Let...\n",
      "1        FLYNN: Hillary Clinton, Big Woman on Campus - ...\n",
      "2                        Why the Truth Might Get You Fired\n",
      "3        15 Civilians Killed In Single US Airstrike Hav...\n",
      "4        Iranian woman jailed for fictional unpublished...\n",
      "                               ...                        \n",
      "20795    Rapper T.I.: Trump a ’Poster Child For White S...\n",
      "20796    N.F.L. Playoffs: Schedule, Matchups and Odds -...\n",
      "20797    Macy’s Is Said to Receive Takeover Approach by...\n",
      "20798    NATO, Russia To Hold Parallel Exercises In Bal...\n",
      "20799                            What Keeps the F-35 Alive\n",
      "Name: content, Length: 20800, dtype: object\n"
     ]
    }
   ],
   "source": [
    "print(news_dataset['content'])"
   ]
  },
  {
   "cell_type": "code",
   "execution_count": 71,
   "id": "44d5323b",
   "metadata": {},
   "outputs": [],
   "source": [
    "# seperating the data and labels  =====> .drop('labels',axis=1)\n",
    "x= news_dataset .drop('label',axis=1)\n",
    "y= news_dataset['label']"
   ]
  },
  {
   "cell_type": "code",
   "execution_count": 72,
   "id": "0f6cd40c",
   "metadata": {},
   "outputs": [],
   "source": [
    "#print(x)\n",
    "#print(y)"
   ]
  },
  {
   "cell_type": "code",
   "execution_count": 73,
   "id": "7d456a22",
   "metadata": {},
   "outputs": [],
   "source": [
    "# stemin: steming is the process to reduce a word to its root word"
   ]
  },
  {
   "cell_type": "code",
   "execution_count": 74,
   "id": "a347bc98",
   "metadata": {},
   "outputs": [],
   "source": [
    "port_stem= PorterStemmer()"
   ]
  },
  {
   "cell_type": "code",
   "execution_count": 75,
   "id": "3b963461",
   "metadata": {},
   "outputs": [],
   "source": [
    "#('[^a-zA-Z]',' ',content)\n",
    "#sub : call library to search , \n",
    "# '[^a-zA-Z] we just need alphabets\n",
    "# stemmed_content.lower()  convert all leters to lower case\n",
    "# port_stem.stem stem all the word not in the stopwords\n",
    "\n",
    "def stemming(content):\n",
    "    stemmed_content = re.sub('[^a-zA-Z]',' ',content)\n",
    "    stemmed_content = stemmed_content.lower()\n",
    "    stemmed_content = stemmed_content.split()\n",
    "    stemmed_content = [port_stem.stem(word) for word in stemmed_content if not word in stopwords.words('english')]\n",
    "    stemmed_content = ' '.join(stemmed_content)\n",
    "    return stemmed_content              "
   ]
  },
  {
   "cell_type": "code",
   "execution_count": 76,
   "id": "6ec599b5",
   "metadata": {},
   "outputs": [],
   "source": [
    "# apply def on dataset =====> .apply(stemming)\n",
    "news_dataset['content']= news_dataset['content'].apply(stemming)"
   ]
  },
  {
   "cell_type": "code",
   "execution_count": 77,
   "id": "c046e246",
   "metadata": {},
   "outputs": [
    {
     "name": "stdout",
     "output_type": "stream",
     "text": [
      "0        hous dem aid even see comey letter jason chaff...\n",
      "1          flynn hillari clinton big woman campu breitbart\n",
      "2                                     truth might get fire\n",
      "3                 civilian kill singl us airstrik identifi\n",
      "4        iranian woman jail fiction unpublish stori wom...\n",
      "                               ...                        \n",
      "20795            rapper trump poster child white supremaci\n",
      "20796      n f l playoff schedul matchup odd new york time\n",
      "20797    maci said receiv takeov approach hudson bay ne...\n",
      "20798             nato russia hold parallel exercis balkan\n",
      "20799                                          keep f aliv\n",
      "Name: content, Length: 20800, dtype: object\n"
     ]
    }
   ],
   "source": [
    "print(news_dataset['content'])"
   ]
  },
  {
   "cell_type": "code",
   "execution_count": 78,
   "id": "d228ae69",
   "metadata": {},
   "outputs": [],
   "source": [
    "#seperating data and label\n",
    "x= news_dataset['content'].values\n",
    "y= news_dataset['label'].values"
   ]
  },
  {
   "cell_type": "code",
   "execution_count": 79,
   "id": "cf006c3f",
   "metadata": {},
   "outputs": [
    {
     "name": "stdout",
     "output_type": "stream",
     "text": [
      "['hous dem aid even see comey letter jason chaffetz tweet'\n",
      " 'flynn hillari clinton big woman campu breitbart' 'truth might get fire'\n",
      " ... 'maci said receiv takeov approach hudson bay new york time'\n",
      " 'nato russia hold parallel exercis balkan' 'keep f aliv']\n",
      "[1 0 1 ... 0 1 1]\n"
     ]
    }
   ],
   "source": [
    "print(x)\n",
    "print(y)"
   ]
  },
  {
   "cell_type": "code",
   "execution_count": 80,
   "id": "46f2b30c",
   "metadata": {},
   "outputs": [
    {
     "data": {
      "text/plain": [
       "(20800,)"
      ]
     },
     "execution_count": 80,
     "metadata": {},
     "output_type": "execute_result"
    }
   ],
   "source": [
    "y.shape"
   ]
  },
  {
   "cell_type": "code",
   "execution_count": 81,
   "id": "310b6308",
   "metadata": {},
   "outputs": [],
   "source": [
    "# convert the words to numerical data\n",
    "# TfidfVectorizer() counts the nemuber of times words in the text\n",
    "vectorizer= TfidfVectorizer()\n",
    "vectorizer.fit(x)\n",
    "x=vectorizer.transform(x)"
   ]
  },
  {
   "cell_type": "code",
   "execution_count": 82,
   "id": "7614df00",
   "metadata": {},
   "outputs": [
    {
     "name": "stdout",
     "output_type": "stream",
     "text": [
      "  (0, 13610)\t0.3204429041871619\n",
      "  (0, 11663)\t0.28865071055944214\n",
      "  (0, 7472)\t0.3286263634991149\n",
      "  (0, 6751)\t0.37807503658407626\n",
      "  (0, 6143)\t0.24709678286281997\n",
      "  (0, 4394)\t0.2624700707018907\n",
      "  (0, 3340)\t0.3043365499413147\n",
      "  (0, 2578)\t0.2776884546129286\n",
      "  (0, 2165)\t0.4135903166037093\n",
      "  (0, 243)\t0.3038505731698672\n",
      "  (1, 14597)\t0.4029069338022535\n",
      "  (1, 5974)\t0.255243301322185\n",
      "  (1, 4874)\t0.49350006801559954\n",
      "  (1, 2444)\t0.25583271340004526\n",
      "  (1, 1946)\t0.5127916215485694\n",
      "  (1, 1650)\t0.21311459271319796\n",
      "  (1, 1313)\t0.3938922297906677\n",
      "  (2, 13543)\t0.520272613528009\n",
      "  (2, 8285)\t0.5879029381082882\n",
      "  (2, 5278)\t0.41416349493213955\n",
      "  (2, 4770)\t0.460603020443823\n",
      "  (3, 13947)\t0.2910988442735044\n",
      "  (3, 12016)\t0.4595551330231538\n",
      "  (3, 7080)\t0.3129596268768328\n",
      "  (3, 6271)\t0.48520717569885846\n",
      "  :\t:\n",
      "  (20796, 14760)\t0.12072790494289075\n",
      "  (20796, 13246)\t0.11914995894745603\n",
      "  (20796, 11529)\t0.4694159922014375\n",
      "  (20796, 9959)\t0.4804399319541416\n",
      "  (20796, 9158)\t0.4804399319541416\n",
      "  (20796, 8881)\t0.11669800295498158\n",
      "  (20796, 8020)\t0.5249887676803939\n",
      "  (20797, 14760)\t0.09865637552280436\n",
      "  (20797, 13246)\t0.09736691031793765\n",
      "  (20797, 12973)\t0.3696736308286207\n",
      "  (20797, 11376)\t0.2945252362687468\n",
      "  (20797, 10699)\t0.3234518055644813\n",
      "  (20797, 8881)\t0.09536322201345346\n",
      "  (20797, 7777)\t0.42901008705511523\n",
      "  (20797, 6173)\t0.4108078881989689\n",
      "  (20797, 1132)\t0.3978932225831085\n",
      "  (20797, 620)\t0.3640547887335783\n",
      "  (20798, 11315)\t0.24691054736365511\n",
      "  (20798, 9542)\t0.49187857119488376\n",
      "  (20798, 8769)\t0.3520491121969918\n",
      "  (20798, 6039)\t0.3583493041750179\n",
      "  (20798, 4448)\t0.45032579628279124\n",
      "  (20798, 996)\t0.49187857119488376\n",
      "  (20799, 7007)\t0.6293846938718347\n",
      "  (20799, 334)\t0.7770938856533727\n"
     ]
    }
   ],
   "source": [
    "print(x)"
   ]
  },
  {
   "cell_type": "code",
   "execution_count": 92,
   "id": "cbc14879",
   "metadata": {},
   "outputs": [],
   "source": [
    "#split data to train and test data\n",
    "x_train, x_test, y_train, y_test = train_test_split(x, y, test_size = 0.2, stratify=y, random_state=2)"
   ]
  },
  {
   "cell_type": "code",
   "execution_count": 93,
   "id": "3f310086",
   "metadata": {},
   "outputs": [],
   "source": [
    "# train the model\n",
    "model= LogisticRegression()\n"
   ]
  },
  {
   "cell_type": "code",
   "execution_count": 101,
   "id": "0df21d93",
   "metadata": {},
   "outputs": [
    {
     "data": {
      "text/plain": [
       "LogisticRegression(C=1.0, class_weight=None, dual=False, fit_intercept=True,\n",
       "          intercept_scaling=1, max_iter=100, multi_class='ovr', n_jobs=1,\n",
       "          penalty='l2', random_state=None, solver='liblinear', tol=0.0001,\n",
       "          verbose=0, warm_start=False)"
      ]
     },
     "execution_count": 101,
     "metadata": {},
     "output_type": "execute_result"
    }
   ],
   "source": [
    "model.fit(x_train, y_train)"
   ]
  },
  {
   "cell_type": "code",
   "execution_count": 107,
   "id": "07c1af48",
   "metadata": {},
   "outputs": [],
   "source": [
    "#accuracy  score on the training data\n",
    "x_train_prediction=model.predict(x_train)\n",
    "training_accuracy= accuracy_score(x_train_prediction, y_train )"
   ]
  },
  {
   "cell_type": "code",
   "execution_count": 104,
   "id": "6368474f",
   "metadata": {},
   "outputs": [
    {
     "name": "stdout",
     "output_type": "stream",
     "text": [
      "0.9399038461538461\n"
     ]
    }
   ],
   "source": [
    "print(training_accuracy)"
   ]
  },
  {
   "cell_type": "code",
   "execution_count": 112,
   "id": "05b1f38a",
   "metadata": {},
   "outputs": [],
   "source": [
    "x_test_prediction=model.predict(x_test)"
   ]
  },
  {
   "cell_type": "code",
   "execution_count": 113,
   "id": "6bbcd1ae",
   "metadata": {},
   "outputs": [],
   "source": [
    "test_accuracy= accuracy_score(x_test_prediction, y_test )"
   ]
  },
  {
   "cell_type": "code",
   "execution_count": 114,
   "id": "bb73bffb",
   "metadata": {},
   "outputs": [
    {
     "name": "stdout",
     "output_type": "stream",
     "text": [
      "0.9298076923076923\n"
     ]
    }
   ],
   "source": [
    "print(test_accuracy)"
   ]
  },
  {
   "cell_type": "code",
   "execution_count": 121,
   "id": "c1fa71f6",
   "metadata": {},
   "outputs": [
    {
     "name": "stdout",
     "output_type": "stream",
     "text": [
      "[0]\n"
     ]
    }
   ],
   "source": [
    "# make a pridiction\n",
    "x_newdata= x_test[1]\n",
    "prediction= model.predict(x_newdata)\n",
    "print(prediction)\n"
   ]
  },
  {
   "cell_type": "code",
   "execution_count": 122,
   "id": "6d682e6a",
   "metadata": {},
   "outputs": [
    {
     "name": "stdout",
     "output_type": "stream",
     "text": [
      "0\n"
     ]
    }
   ],
   "source": [
    "# check the accuracy\n",
    "print(y_test[1])"
   ]
  },
  {
   "cell_type": "code",
   "execution_count": null,
   "id": "709cd74b",
   "metadata": {},
   "outputs": [],
   "source": []
  }
 ],
 "metadata": {
  "kernelspec": {
   "display_name": "Python 3",
   "language": "python",
   "name": "python3"
  },
  "language_info": {
   "codemirror_mode": {
    "name": "ipython",
    "version": 3
   },
   "file_extension": ".py",
   "mimetype": "text/x-python",
   "name": "python",
   "nbconvert_exporter": "python",
   "pygments_lexer": "ipython3",
   "version": "3.6.9"
  }
 },
 "nbformat": 4,
 "nbformat_minor": 5
}
